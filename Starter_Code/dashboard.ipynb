{
 "cells": [
  {
   "cell_type": "markdown",
   "metadata": {},
   "source": [
    "# San Francisco Rental Prices Dashboard\n",
    "\n",
    "In this notebook, you will compile the visualizations from the previous analysis into functions that can be used for a Panel dashboard."
   ]
  },
  {
   "cell_type": "code",
   "execution_count": 4,
   "metadata": {},
   "outputs": [],
   "source": [
    "# imports\n",
    "import panel as pn\n",
    "pn.extension('plotly')\n",
    "import plotly.express as px\n",
    "import pandas as pd\n",
    "import hvplot.pandas\n",
    "import matplotlib.pyplot as plt\n",
    "import numpy as np\n",
    "import os\n",
    "from pathlib import Path\n",
    "from dotenv import load_dotenv"
   ]
  },
  {
   "cell_type": "code",
   "execution_count": 5,
   "metadata": {},
   "outputs": [],
   "source": [
    "# Read the Mapbox API key\n",
    "load_dotenv()\n",
    "map_box_api = os.getenv(\"mapbox\")\n",
    "px.set_mapbox_access_token(map_box_api)"
   ]
  },
  {
   "cell_type": "markdown",
   "metadata": {},
   "source": [
    "# Import Data"
   ]
  },
  {
   "cell_type": "code",
   "execution_count": 6,
   "metadata": {},
   "outputs": [],
   "source": [
    "# Import the necessary CSVs to Pandas DataFrames\n",
    "\n",
    "file_path = Path(\"Data/sfo_neighborhoods_census_data.csv\")\n",
    "sfo_data = pd.read_csv(file_path, index_col=\"year\")\n",
    "\n",
    "file_path = Path(\"Data/neighborhoods_coordinates.csv\")\n",
    "df_neighborhood_locations = pd.read_csv(file_path)"
   ]
  },
  {
   "cell_type": "markdown",
   "metadata": {},
   "source": [
    "- - -"
   ]
  },
  {
   "cell_type": "markdown",
   "metadata": {},
   "source": [
    "## Panel Visualizations\n",
    "\n",
    "In this section, you will copy the code for each plot type from your analysis notebook and place it into separate functions that Panel can use to create panes for the dashboard. \n",
    "\n",
    "These functions will convert the plot object to a Panel pane.\n",
    "\n",
    "Be sure to include any DataFrame transformation/manipulation code required along with the plotting code.\n",
    "\n",
    "Return a Panel pane object from each function that can be used to build the dashboard.\n",
    "\n",
    "Note: Remove any `.show()` lines from the code. We want to return the plots instead of showing them. The Panel dashboard will then display the plots."
   ]
  },
  {
   "cell_type": "code",
   "execution_count": 18,
   "metadata": {},
   "outputs": [],
   "source": [
    "# Define Panel Visualization Functions\n",
    "\n",
    "def housing_units_per_year():\n",
    "    housing_units_year = sfo_data[\"housing_units\"].groupby('year').mean()\n",
    "    \n",
    "    housing_data_min = housing_units_year.min()\n",
    "    housing_data_max = housing_units_year.max()\n",
    "    housing_data_std = housing_units_year.std()\n",
    "\n",
    "    fig_housing_units = plt.figure()\n",
    "    housing_units_plot = housing_units_year.plot.bar()\n",
    "    housing_units_plot.set_ylim(housing_data_min - housing_data_std, housing_data_max + housing_data_std)\n",
    "    plt.close(fig_housing_units)\n",
    "    return pn.pane.Matplotlib(fig_housing_units, tight = True)\n",
    "\n",
    "def average_gross_rent():\n",
    "    \"\"\"Average Gross Rent in San Francisco Per Year.\"\"\"\n",
    "    \n",
    "    avg_rent_sqr_foot = sfo_data[[\"sale_price_sqr_foot\", \"gross_rent\"]].groupby([sfo_data.index]).mean()\n",
    "    fig_average_gross_rent = plt.figure()\n",
    "    avg_gross_rent_plot = avg_rent_sqr_foot[\"gross_rent\"].plot.line(title=\"Average Gross Rent in San Francisco\", color = \"magenta\")\n",
    "    avg_gross_rent_plot.set_xlabel(\"Year\")\n",
    "    avg_gross_rent_plot.set_ylabel(\"Gross Rent\")\n",
    "    plt.close(fig_average_gross_rent)\n",
    "    return pn.pane.Matplotlib(fig_avg_gross_rent, tight = True)\n",
    "\n",
    "\n",
    "def average_sales_price():\n",
    "    \"\"\"Average Sales Price Per Year.\"\"\"\n",
    "    \n",
    "    fig_sale_price_sqr_foot = plt.figure()\n",
    "    rent_sqt_plot = avg_rent_sqr_foot[\"sale_price_sqr_foot\"].plot.line(title=\"Average Sales Price per Square Foot in San Francisco\", color = \"blue\")\n",
    "    rent_sqt_plot.set_xlabel(\"Year\")\n",
    "    rent_sqt_plot.set_ylabel(\"Avg. Sale Price\")\n",
    "    plt.close(fig_sale_price_sqr_foot)\n",
    "    return pn.pane.Matplotlib(fig_avg_sales_price, tight = True)\n",
    "\n",
    "\n",
    "\n",
    "\n",
    "def average_price_by_neighborhood():\n",
    "    \"\"\"Average Prices by Neighborhood.\"\"\"\n",
    "    \n",
    "    file_path = Path(\"Data/sfo_neighborhoods_census_data.csv\")\n",
    "    grouped_neighborhood_data = sfo_data.groupby([sfo_data.index, \"neighborhood\"]).mean()\n",
    "    grouped_sales = grouped_neighborhood_data.reset_index()\n",
    "    grouped_sales.head(10)\n",
    "    \n",
    "    avg_price_by_neighborhood = grouped_sales.hvplot.line(x='year', y='sale_price_sqr_foot', groupby = 'neighborhood')\n",
    "    return avg_price_by_neighborhood\n",
    "\n",
    "def top_most_expensive_neighborhoods():\n",
    "    \"\"\"Top 10 Most Expensive Neighborhoods.\"\"\"\n",
    "\n",
    "    top_10_expensive_neighborhoods = sfo_data.groupby(\"neighborhood\").mean().sort_values(by='sale_price_sqr_foot', ascending=False).head(10)\n",
    "    top_10_expensive_neighborhoods.reset_index(inplace=True)\n",
    "    top_expensive_neighborhoods = expensive_plot = top_10_expensive_neighborhoods.hvplot.bar(\n",
    "         x=\"neighborhood\",\n",
    "         y=\"sale_price_sqr_foot\",\n",
    "         colormap=\"viridis\",\n",
    "         title=\"Top 10 Expensive Neighborhoods in SFO\",\n",
    "    height=500,\n",
    "    rot=90,\n",
    "    xlabel=\"Neighborhood\",\n",
    "    ylabel=\"Avg. Sale Price per Square Foot\"\n",
    ")\n",
    "    return top_expensive_neighborhoods\n",
    "\n",
    "\n",
    "def most_expensive_neighborhoods_rent_sales():\n",
    "    \"\"\"Comparison of Rent and Sales Prices of Most Expensive Neighborhoods.\"\"\"   \n",
    "    \n",
    "    grouped_sales = grouped_neighborhood_data.reset_index()\n",
    "    grouped_sales.head(10)\n",
    "    expensive_neighborhoods_group_sales = grouped_sales.hvplot.line(x='year', y='sale_price_sqr_foot', groupby = 'neighborhood')+ grouped_sales.hvplot.line(x='year', y='gross_rent', groupby = 'neighborhood')\n",
    "    return expensive_neighborhoods_group_sales\n",
    "        \n",
    "    \n",
    "def parallel_coordinates():\n",
    "    \"\"\"Parallel Coordinates Plot.\"\"\"\n",
    "\n",
    "    def parallel_coordinates():\n",
    "        parallel_coordinates_plot = px.parallel_coordinates(\n",
    "        top_neighborhood_sale_price,\n",
    "        dimensions=['sale_price_sqr_foot','housing_units','gross_rent'],\n",
    "        color='sale_price_sqr_foot',\n",
    "        labels={\n",
    "                'sale_price_sqr_foot': 'Sale Price per Sq.ft.',\n",
    "                'housing_units': 'Housing Units',\n",
    "                'gross_rent': 'Gross Rent',\n",
    "    },\n",
    "    )\n",
    "    \n",
    "    return parallel_coordinates_plot\n",
    "\n",
    "\n",
    "def parallel_categories():\n",
    "    parallel_categories_plot = px.parallel_categories(\n",
    "    top_neighborhood_sale_price,\n",
    "    dimensions=['neighborhood','sale_price_sqr_foot','housing_units','gross_rent'],\n",
    "    color='sale_price_sqr_foot',\n",
    "    labels={\n",
    "            'neighborhood':'Neighborhood',\n",
    "            'sale_price_sqr_foot': 'Sale Price per Sq.ft.',\n",
    "            'housing_units': 'Housing Units',\n",
    "            'gross_rent': 'Gross Rent',\n",
    "    },\n",
    "    )\n",
    "    \n",
    "    return parallel_categories_plot\n",
    "\n",
    "\n",
    "\n",
    "def neighborhood_map():\n",
    "    \"\"\"Neighborhood Map.\"\"\"\n",
    "\n",
    "    neighborhood_mean = sfo_data.groupby('neighborhood').mean().reset_index()\n",
    "    \n",
    "    combined_neighborhoods = pd.concat([neighborhood_locations, neighborhood_mean],  \n",
    "              axis='columns').drop(columns=['neighborhood'])\n",
    "    \n",
    "    map = px.scatter_mapbox(\n",
    "        combined_neighborhoods,\n",
    "        lat=\"Lat\",\n",
    "        lon=\"Lon\",\n",
    "        color=\"gross_rent\",\n",
    "        size=\"sale_price_sqr_foot\",\n",
    "        title = \"Average Sale Price per Sq Foot and Gross Rent in SF\",\n",
    "        color_continuous_scale=px.colors.cyclical.IceFire,\n",
    "        size_max=12,\n",
    "        zoom=10\n",
    " )\n",
    "    plotly_panel = pn.pane.Plotly(map)\n",
    "    plotly_panel._updates = True\n",
    "    return plotly_panel\n"
   ]
  },
  {
   "cell_type": "markdown",
   "metadata": {},
   "source": [
    "## Panel Dashboard\n",
    "\n",
    "In this section, you will combine all of the plots into a single dashboard view using Panel. Be creative with your dashboard design!"
   ]
  },
  {
   "cell_type": "code",
   "execution_count": 17,
   "metadata": {},
   "outputs": [
    {
     "ename": "NameError",
     "evalue": "name 'neighborhood_locations' is not defined",
     "output_type": "error",
     "traceback": [
      "\u001b[1;31m---------------------------------------------------------------------------\u001b[0m",
      "\u001b[1;31mNameError\u001b[0m                                 Traceback (most recent call last)",
      "\u001b[1;32mC:\\Users\\JOSINA~1\\AppData\\Local\\Temp/ipykernel_3916/4236024717.py\u001b[0m in \u001b[0;36m<module>\u001b[1;34m\u001b[0m\n\u001b[0;32m      1\u001b[0m \u001b[1;31m# Create a Title and structure of the Dashboard\u001b[0m\u001b[1;33m\u001b[0m\u001b[1;33m\u001b[0m\u001b[1;33m\u001b[0m\u001b[0m\n\u001b[0;32m      2\u001b[0m welcome_panel = pn.Column(\n\u001b[1;32m----> 3\u001b[1;33m     \u001b[0mneighborhood_map\u001b[0m\u001b[1;33m(\u001b[0m\u001b[1;33m)\u001b[0m\u001b[1;33m\u001b[0m\u001b[1;33m\u001b[0m\u001b[0m\n\u001b[0m\u001b[0;32m      4\u001b[0m )\n\u001b[0;32m      5\u001b[0m \u001b[1;33m\u001b[0m\u001b[0m\n",
      "\u001b[1;32mC:\\Users\\JOSINA~1\\AppData\\Local\\Temp/ipykernel_3916/1325106635.py\u001b[0m in \u001b[0;36mneighborhood_map\u001b[1;34m()\u001b[0m\n\u001b[0;32m    119\u001b[0m     \u001b[0mneighborhood_mean\u001b[0m \u001b[1;33m=\u001b[0m \u001b[0msfo_data\u001b[0m\u001b[1;33m.\u001b[0m\u001b[0mgroupby\u001b[0m\u001b[1;33m(\u001b[0m\u001b[1;34m'neighborhood'\u001b[0m\u001b[1;33m)\u001b[0m\u001b[1;33m.\u001b[0m\u001b[0mmean\u001b[0m\u001b[1;33m(\u001b[0m\u001b[1;33m)\u001b[0m\u001b[1;33m.\u001b[0m\u001b[0mreset_index\u001b[0m\u001b[1;33m(\u001b[0m\u001b[1;33m)\u001b[0m\u001b[1;33m\u001b[0m\u001b[1;33m\u001b[0m\u001b[0m\n\u001b[0;32m    120\u001b[0m \u001b[1;33m\u001b[0m\u001b[0m\n\u001b[1;32m--> 121\u001b[1;33m     combined_neighborhoods = pd.concat([neighborhood_locations, neighborhood_mean],  \n\u001b[0m\u001b[0;32m    122\u001b[0m               axis='columns').drop(columns=['neighborhood'])\n\u001b[0;32m    123\u001b[0m \u001b[1;33m\u001b[0m\u001b[0m\n",
      "\u001b[1;31mNameError\u001b[0m: name 'neighborhood_locations' is not defined"
     ]
    }
   ],
   "source": [
    "# Create a Title and structure of the Dashboard\n",
    "welcome_panel = pn.Column(\n",
    "    neighborhood_map()\n",
    ")\n",
    "\n",
    "yearly_market_analysis = pn.Row(\n",
    "    housing_units_per_year(), \n",
    "    average_gross_rent(), \n",
    "    average_sales_price()\n",
    ")\n",
    "\n",
    "neighborhood_analysis = pn.Column(\n",
    "    'Top Ten Most Expensive Neighborhoods',\n",
    "    average_price_by_neighborhood(),\n",
    "    top_most_expensive_neighborhoods()\n",
    ")\n",
    "\n",
    "parallel_plot_analysis = pn.Column(\n",
    "    '## Parallel Coordinates and Categories',\n",
    "    parallel_coordinates(),\n",
    "    parallel_categories()\n",
    ")\n",
    "\n",
    "# Create tabs\n",
    "panel = pn.Tabs(\n",
    "    ('Welcome', welcome_panel),\n",
    "    ('Yearly Market Analysis', yearly_market_analysis),\n",
    "    ('Neighborhood Analysis', neighborhood_analysis),\n",
    "    ('Parallel Plot Analysis', parallel_plot_analysis)\n",
    ")"
   ]
  },
  {
   "cell_type": "markdown",
   "metadata": {},
   "source": [
    "## Serve the Panel Dashboard"
   ]
  },
  {
   "cell_type": "code",
   "execution_count": null,
   "metadata": {},
   "outputs": [],
   "source": [
    "# Serve the# dashboard\n",
    "panel.servable()"
   ]
  },
  {
   "cell_type": "markdown",
   "metadata": {},
   "source": [
    "# Debugging\n",
    "\n",
    "Note: Some of the Plotly express plots may not render in the notebook through the panel functions.\n",
    "\n",
    "However, you can test each plot by uncommenting the following code"
   ]
  },
  {
   "cell_type": "code",
   "execution_count": 28,
   "metadata": {},
   "outputs": [],
   "source": [
    "# housing_units_per_year()"
   ]
  },
  {
   "cell_type": "code",
   "execution_count": 29,
   "metadata": {},
   "outputs": [],
   "source": [
    "# average_gross_rent()"
   ]
  },
  {
   "cell_type": "code",
   "execution_count": 30,
   "metadata": {},
   "outputs": [],
   "source": [
    "# average_sales_price()"
   ]
  },
  {
   "cell_type": "code",
   "execution_count": 31,
   "metadata": {},
   "outputs": [],
   "source": [
    "# average_price_by_neighborhood()"
   ]
  },
  {
   "cell_type": "code",
   "execution_count": 32,
   "metadata": {},
   "outputs": [],
   "source": [
    "# top_most_expensive_neighborhoods()"
   ]
  },
  {
   "cell_type": "code",
   "execution_count": 33,
   "metadata": {},
   "outputs": [],
   "source": [
    "# most_expensive_neighborhoods_rent_sales()"
   ]
  },
  {
   "cell_type": "code",
   "execution_count": 34,
   "metadata": {},
   "outputs": [],
   "source": [
    "# neighborhood_map().show()"
   ]
  },
  {
   "cell_type": "code",
   "execution_count": 35,
   "metadata": {},
   "outputs": [],
   "source": [
    "# parallel_categories()"
   ]
  },
  {
   "cell_type": "code",
   "execution_count": 36,
   "metadata": {},
   "outputs": [],
   "source": [
    "# parallel_coordinates()"
   ]
  },
  {
   "cell_type": "code",
   "execution_count": 37,
   "metadata": {},
   "outputs": [],
   "source": [
    "# sunburst()"
   ]
  }
 ],
 "metadata": {
  "file_extension": ".py",
  "kernelspec": {
   "display_name": "Python 3 (ipykernel)",
   "language": "python",
   "name": "python3"
  },
  "language_info": {
   "codemirror_mode": {
    "name": "ipython",
    "version": 3
   },
   "file_extension": ".py",
   "mimetype": "text/x-python",
   "name": "python",
   "nbconvert_exporter": "python",
   "pygments_lexer": "ipython3",
   "version": "3.9.7"
  },
  "mimetype": "text/x-python",
  "name": "python",
  "npconvert_exporter": "python",
  "pygments_lexer": "ipython3",
  "version": 3
 },
 "nbformat": 4,
 "nbformat_minor": 4
}
